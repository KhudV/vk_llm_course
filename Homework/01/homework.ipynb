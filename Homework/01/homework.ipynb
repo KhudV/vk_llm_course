{
  "cells": [
    {
      "cell_type": "code",
      "execution_count": 1,
      "id": "3bae632e",
      "metadata": {
        "id": "3bae632e"
      },
      "outputs": [],
      "source": [
        "import pandas as pd\n",
        "import numpy as np\n",
        "import random\n",
        "import torch\n",
        "import torch.nn as nn\n",
        "import torch.nn.functional as F\n",
        "import re\n",
        "import time\n",
        "from torch.utils.data import Dataset, DataLoader\n",
        "from tqdm import tqdm\n",
        "from collections import Counter\n",
        "from IPython.display import clear_output\n",
        "\n",
        "from scripts import BpeTokenizer, Model, Trainer, Collator, MyDataset, generate"
      ]
    },
    {
      "cell_type": "markdown",
      "id": "fbf920c8",
      "metadata": {
        "id": "fbf920c8"
      },
      "source": [
        "# Загружаем данные"
      ]
    },
    {
      "cell_type": "code",
      "execution_count": 2,
      "id": "62c4b8e1",
      "metadata": {
        "scrolled": true,
        "id": "62c4b8e1"
      },
      "outputs": [],
      "source": [
        "df = pd.read_csv('data/dataset.csv')\n",
        "train_texts = df['text'][:-1024].tolist()\n",
        "eval_texts = df['text'][-1024:].tolist()"
      ]
    },
    {
      "cell_type": "markdown",
      "id": "1185cbdb",
      "metadata": {
        "id": "1185cbdb"
      },
      "source": [
        "# Инициализируем и обучаем токенизатор"
      ]
    },
    {
      "cell_type": "code",
      "execution_count": 3,
      "id": "c2faf407",
      "metadata": {
        "id": "c2faf407"
      },
      "outputs": [],
      "source": [
        "tokenizer = BpeTokenizer()"
      ]
    },
    {
      "cell_type": "code",
      "execution_count": 4,
      "id": "deecd0e9",
      "metadata": {
        "colab": {
          "base_uri": "https://localhost:8080/"
        },
        "id": "deecd0e9",
        "outputId": "3d90d874-947b-4cb1-a69a-33b607adf5ed"
      },
      "outputs": [
        {
          "output_type": "stream",
          "name": "stderr",
          "text": [
            "pair=(291, 558), freq=52: 100%|██████████| 1789/1789 [11:57<00:00,  2.49it/s]\n"
          ]
        }
      ],
      "source": [
        "tokenizer.train(train_texts[:2048], max_vocab=2048)"
      ]
    },
    {
      "cell_type": "markdown",
      "id": "a4388757",
      "metadata": {
        "id": "a4388757"
      },
      "source": [
        "# Создаем датасеты и Collator"
      ]
    },
    {
      "cell_type": "code",
      "execution_count": 5,
      "id": "5a41f636",
      "metadata": {
        "colab": {
          "base_uri": "https://localhost:8080/"
        },
        "id": "5a41f636",
        "outputId": "1180689d-749d-445d-ddb9-e2e6b3db4d1c"
      },
      "outputs": [
        {
          "output_type": "stream",
          "name": "stderr",
          "text": [
            "100%|██████████| 16384/16384 [03:05<00:00, 88.15it/s]\n",
            "100%|██████████| 1024/1024 [00:11<00:00, 86.35it/s]\n"
          ]
        }
      ],
      "source": [
        "train_dataset = MyDataset(train_texts, tokenizer, max_length=128)\n",
        "eval_dataset = MyDataset(eval_texts, tokenizer, max_length=128)\n",
        "collator = Collator(tokenizer.pad_token_id)"
      ]
    },
    {
      "cell_type": "markdown",
      "id": "6f1d558d",
      "metadata": {
        "id": "6f1d558d"
      },
      "source": [
        "# Создаем модель"
      ]
    },
    {
      "cell_type": "code",
      "execution_count": 6,
      "id": "6bbf25b3",
      "metadata": {
        "id": "6bbf25b3"
      },
      "outputs": [],
      "source": [
        "torch.manual_seed(42)\n",
        "np.random.seed(42)\n",
        "random.seed(42)"
      ]
    },
    {
      "cell_type": "code",
      "execution_count": 7,
      "id": "96a9378a",
      "metadata": {
        "id": "96a9378a"
      },
      "outputs": [],
      "source": [
        "model = Model(tokenizer.get_vocab_size(), emb_size=128, hidden_size=256, num_layers=2, dropout=0.1)"
      ]
    },
    {
      "cell_type": "markdown",
      "id": "58ee6385",
      "metadata": {
        "id": "58ee6385"
      },
      "source": [
        "# Создаем Trainer и запускаем обучение"
      ]
    },
    {
      "cell_type": "code",
      "execution_count": 8,
      "id": "08145518",
      "metadata": {
        "id": "08145518"
      },
      "outputs": [],
      "source": [
        "trainer = Trainer(\n",
        "    model=model,\n",
        "    train_dataset=train_dataset,\n",
        "    eval_dataset=eval_dataset,\n",
        "    n_epochs=8,\n",
        "    train_batch_size=32,\n",
        "    eval_batch_size=32,\n",
        "    eval_steps=64,\n",
        "    collator=collator,\n",
        "    lr=1e-2,\n",
        "    ignore_index=tokenizer.pad_token_id\n",
        ")"
      ]
    },
    {
      "cell_type": "code",
      "execution_count": 9,
      "id": "57b36087",
      "metadata": {
        "colab": {
          "base_uri": "https://localhost:8080/"
        },
        "id": "57b36087",
        "outputId": "e1a457f3-4321-4495-cff0-b8d0f98cf8d1"
      },
      "outputs": [
        {
          "output_type": "stream",
          "name": "stderr",
          "text": [
            "epoch=0.125, loss=3.2427937984466553:   2%|▏         | 64/4096 [01:22<1:38:03,  1.46s/it]     "
          ]
        },
        {
          "output_type": "stream",
          "name": "stdout",
          "text": [
            "epoch=0.125, eval_loss=3.18432330340147\n"
          ]
        },
        {
          "output_type": "stream",
          "name": "stderr",
          "text": [
            "epoch=0.25, loss=3.0397064685821533:   3%|▎         | 128/4096 [03:03<1:32:54,  1.40s/it]      "
          ]
        },
        {
          "output_type": "stream",
          "name": "stdout",
          "text": [
            "epoch=0.25, eval_loss=2.9650473669171333\n"
          ]
        },
        {
          "output_type": "stream",
          "name": "stderr",
          "text": [
            "epoch=0.375, loss=2.8460381031036377:   5%|▍         | 192/4096 [04:36<1:23:52,  1.29s/it]      "
          ]
        },
        {
          "output_type": "stream",
          "name": "stdout",
          "text": [
            "epoch=0.375, eval_loss=2.8433842435479164\n"
          ]
        },
        {
          "output_type": "stream",
          "name": "stderr",
          "text": [
            "epoch=0.5, loss=2.785429000854492:   6%|▋         | 256/4096 [06:03<1:12:19,  1.13s/it]         "
          ]
        },
        {
          "output_type": "stream",
          "name": "stdout",
          "text": [
            "epoch=0.5, eval_loss=2.746042437851429\n"
          ]
        },
        {
          "output_type": "stream",
          "name": "stderr",
          "text": [
            "epoch=0.625, loss=2.6204967498779297:   8%|▊         | 320/4096 [07:26<1:17:10,  1.23s/it]      "
          ]
        },
        {
          "output_type": "stream",
          "name": "stdout",
          "text": [
            "epoch=0.625, eval_loss=2.6771296188235283\n"
          ]
        },
        {
          "output_type": "stream",
          "name": "stderr",
          "text": [
            "epoch=0.75, loss=2.6250088214874268:   9%|▉         | 384/4096 [08:44<1:13:23,  1.19s/it]      "
          ]
        },
        {
          "output_type": "stream",
          "name": "stdout",
          "text": [
            "epoch=0.75, eval_loss=2.594385579228401\n"
          ]
        },
        {
          "output_type": "stream",
          "name": "stderr",
          "text": [
            "epoch=0.875, loss=2.580075263977051:  11%|█         | 448/4096 [10:01<58:14,  1.04it/s]       "
          ]
        },
        {
          "output_type": "stream",
          "name": "stdout",
          "text": [
            "epoch=0.875, eval_loss=2.5272271186113358\n"
          ]
        },
        {
          "output_type": "stream",
          "name": "stderr",
          "text": [
            "epoch=1.0, loss=2.594589948654175:  12%|█▎        | 512/4096 [11:17<57:56,  1.03it/s]   "
          ]
        },
        {
          "output_type": "stream",
          "name": "stdout",
          "text": [
            "epoch=1.0, eval_loss=2.451408453285694\n"
          ]
        },
        {
          "output_type": "stream",
          "name": "stderr",
          "text": [
            "epoch=1.125, loss=2.4531636238098145:  14%|█▍        | 576/4096 [12:34<1:00:22,  1.03s/it]      "
          ]
        },
        {
          "output_type": "stream",
          "name": "stdout",
          "text": [
            "epoch=1.125, eval_loss=2.3785244673490524\n"
          ]
        },
        {
          "output_type": "stream",
          "name": "stderr",
          "text": [
            "epoch=1.25, loss=2.308396816253662:  16%|█▌        | 640/4096 [13:51<1:11:12,  1.24s/it]       "
          ]
        },
        {
          "output_type": "stream",
          "name": "stdout",
          "text": [
            "epoch=1.25, eval_loss=2.299167111515999\n"
          ]
        },
        {
          "output_type": "stream",
          "name": "stderr",
          "text": [
            "epoch=1.375, loss=2.228303909301758:  17%|█▋        | 704/4096 [15:07<53:53,  1.05it/s]       "
          ]
        },
        {
          "output_type": "stream",
          "name": "stdout",
          "text": [
            "epoch=1.375, eval_loss=2.2211847826838493\n"
          ]
        },
        {
          "output_type": "stream",
          "name": "stderr",
          "text": [
            "epoch=1.5, loss=2.1581149101257324:  19%|█▉        | 768/4096 [16:24<54:26,  1.02it/s]        "
          ]
        },
        {
          "output_type": "stream",
          "name": "stdout",
          "text": [
            "epoch=1.5, eval_loss=2.149824645370245\n"
          ]
        },
        {
          "output_type": "stream",
          "name": "stderr",
          "text": [
            "epoch=1.625, loss=2.1241676807403564:  20%|██        | 832/4096 [17:42<54:28,  1.00s/it]      "
          ]
        },
        {
          "output_type": "stream",
          "name": "stdout",
          "text": [
            "epoch=1.625, eval_loss=2.0997127778828144\n"
          ]
        },
        {
          "output_type": "stream",
          "name": "stderr",
          "text": [
            "epoch=1.75, loss=2.0478086471557617:  22%|██▏       | 896/4096 [19:00<55:16,  1.04s/it]      "
          ]
        },
        {
          "output_type": "stream",
          "name": "stdout",
          "text": [
            "epoch=1.75, eval_loss=2.04085461050272\n"
          ]
        },
        {
          "output_type": "stream",
          "name": "stderr",
          "text": [
            "epoch=1.875, loss=2.022135019302368:  23%|██▎       | 960/4096 [20:17<1:00:16,  1.15s/it]       "
          ]
        },
        {
          "output_type": "stream",
          "name": "stdout",
          "text": [
            "epoch=1.875, eval_loss=1.9869785159826279\n"
          ]
        },
        {
          "output_type": "stream",
          "name": "stderr",
          "text": [
            "epoch=2.0, loss=2.0080418586730957:  25%|██▌       | 1024/4096 [21:34<58:03,  1.13s/it]       "
          ]
        },
        {
          "output_type": "stream",
          "name": "stdout",
          "text": [
            "epoch=2.0, eval_loss=1.954146258533001\n"
          ]
        },
        {
          "output_type": "stream",
          "name": "stderr",
          "text": [
            "epoch=2.125, loss=2.128338575363159:  27%|██▋       | 1088/4096 [22:51<49:24,  1.01it/s]       "
          ]
        },
        {
          "output_type": "stream",
          "name": "stdout",
          "text": [
            "epoch=2.125, eval_loss=1.923521138727665\n"
          ]
        },
        {
          "output_type": "stream",
          "name": "stderr",
          "text": [
            "epoch=2.25, loss=1.8332587480545044:  28%|██▊       | 1152/4096 [24:33<1:11:18,  1.45s/it]       "
          ]
        },
        {
          "output_type": "stream",
          "name": "stdout",
          "text": [
            "epoch=2.25, eval_loss=1.8827165104448795\n"
          ]
        },
        {
          "output_type": "stream",
          "name": "stderr",
          "text": [
            "epoch=2.375, loss=1.979292631149292:  30%|██▉       | 1216/4096 [26:18<1:11:23,  1.49s/it]       "
          ]
        },
        {
          "output_type": "stream",
          "name": "stdout",
          "text": [
            "epoch=2.375, eval_loss=1.8617610968649387\n"
          ]
        },
        {
          "output_type": "stream",
          "name": "stderr",
          "text": [
            "epoch=2.5, loss=1.973446011543274:  31%|███▏      | 1280/4096 [28:13<1:25:24,  1.82s/it]         "
          ]
        },
        {
          "output_type": "stream",
          "name": "stdout",
          "text": [
            "epoch=2.5, eval_loss=1.8401225730776787\n"
          ]
        },
        {
          "output_type": "stream",
          "name": "stderr",
          "text": [
            "epoch=2.625, loss=1.8611325025558472:  33%|███▎      | 1344/4096 [30:10<1:19:35,  1.74s/it]      "
          ]
        },
        {
          "output_type": "stream",
          "name": "stdout",
          "text": [
            "epoch=2.625, eval_loss=1.8278765976428986\n"
          ]
        },
        {
          "output_type": "stream",
          "name": "stderr",
          "text": [
            "epoch=2.75, loss=1.9030795097351074:  34%|███▍      | 1408/4096 [32:34<1:37:30,  2.18s/it]       "
          ]
        },
        {
          "output_type": "stream",
          "name": "stdout",
          "text": [
            "epoch=2.75, eval_loss=1.8031067103147507\n"
          ]
        },
        {
          "output_type": "stream",
          "name": "stderr",
          "text": [
            "epoch=2.875, loss=1.9083466529846191:  36%|███▌      | 1472/4096 [35:03<1:32:14,  2.11s/it]      "
          ]
        },
        {
          "output_type": "stream",
          "name": "stdout",
          "text": [
            "epoch=2.875, eval_loss=1.7872733734548092\n"
          ]
        },
        {
          "output_type": "stream",
          "name": "stderr",
          "text": [
            "epoch=3.0, loss=1.8211584091186523:  38%|███▊      | 1536/4096 [37:35<1:44:03,  2.44s/it]       "
          ]
        },
        {
          "output_type": "stream",
          "name": "stdout",
          "text": [
            "epoch=3.0, eval_loss=1.7680945880711079\n"
          ]
        },
        {
          "output_type": "stream",
          "name": "stderr",
          "text": [
            "epoch=3.125, loss=1.8060754537582397:  39%|███▉      | 1600/4096 [40:19<1:38:03,  2.36s/it]      "
          ]
        },
        {
          "output_type": "stream",
          "name": "stdout",
          "text": [
            "epoch=3.125, eval_loss=1.7558469362556934\n"
          ]
        },
        {
          "output_type": "stream",
          "name": "stderr",
          "text": [
            "epoch=3.25, loss=1.8507254123687744:  41%|████      | 1664/4096 [42:55<1:32:46,  2.29s/it]       "
          ]
        },
        {
          "output_type": "stream",
          "name": "stdout",
          "text": [
            "epoch=3.25, eval_loss=1.755227580666542\n"
          ]
        },
        {
          "output_type": "stream",
          "name": "stderr",
          "text": [
            "epoch=3.375, loss=1.7584983110427856:  42%|████▏     | 1728/4096 [45:30<1:24:07,  2.13s/it]      "
          ]
        },
        {
          "output_type": "stream",
          "name": "stdout",
          "text": [
            "epoch=3.375, eval_loss=1.7366494499146938\n"
          ]
        },
        {
          "output_type": "stream",
          "name": "stderr",
          "text": [
            "epoch=3.5, loss=1.808502197265625:  44%|████▍     | 1792/4096 [47:49<1:10:47,  1.84s/it]         "
          ]
        },
        {
          "output_type": "stream",
          "name": "stdout",
          "text": [
            "epoch=3.5, eval_loss=1.7221609614789486\n"
          ]
        },
        {
          "output_type": "stream",
          "name": "stderr",
          "text": [
            "epoch=3.625, loss=1.836958646774292:  45%|████▌     | 1856/4096 [49:55<1:07:16,  1.80s/it]       "
          ]
        },
        {
          "output_type": "stream",
          "name": "stdout",
          "text": [
            "epoch=3.625, eval_loss=1.719110943377018\n"
          ]
        },
        {
          "output_type": "stream",
          "name": "stderr",
          "text": [
            "epoch=3.75, loss=1.8691250085830688:  47%|████▋     | 1920/4096 [51:51<59:04,  1.63s/it]      "
          ]
        },
        {
          "output_type": "stream",
          "name": "stdout",
          "text": [
            "epoch=3.75, eval_loss=1.7088155001401901\n"
          ]
        },
        {
          "output_type": "stream",
          "name": "stderr",
          "text": [
            "epoch=3.875, loss=1.8075032234191895:  48%|████▊     | 1984/4096 [53:37<56:09,  1.60s/it]      "
          ]
        },
        {
          "output_type": "stream",
          "name": "stdout",
          "text": [
            "epoch=3.875, eval_loss=1.700964331626892\n"
          ]
        },
        {
          "output_type": "stream",
          "name": "stderr",
          "text": [
            "epoch=4.0, loss=1.750575304031372:  50%|█████     | 2048/4096 [55:17<46:48,  1.37s/it]         "
          ]
        },
        {
          "output_type": "stream",
          "name": "stdout",
          "text": [
            "epoch=4.0, eval_loss=1.6935843378305435\n"
          ]
        },
        {
          "output_type": "stream",
          "name": "stderr",
          "text": [
            "epoch=4.125, loss=1.7053964138031006:  52%|█████▏    | 2112/4096 [57:03<47:54,  1.45s/it]     "
          ]
        },
        {
          "output_type": "stream",
          "name": "stdout",
          "text": [
            "epoch=4.125, eval_loss=1.6811473742127419\n"
          ]
        },
        {
          "output_type": "stream",
          "name": "stderr",
          "text": [
            "epoch=4.25, loss=1.676263451576233:  53%|█████▎    | 2176/4096 [58:50<46:34,  1.46s/it]        "
          ]
        },
        {
          "output_type": "stream",
          "name": "stdout",
          "text": [
            "epoch=4.25, eval_loss=1.6785908453166485\n"
          ]
        },
        {
          "output_type": "stream",
          "name": "stderr",
          "text": [
            "epoch=4.375, loss=1.7648186683654785:  55%|█████▍    | 2240/4096 [1:00:38<52:53,  1.71s/it]      "
          ]
        },
        {
          "output_type": "stream",
          "name": "stdout",
          "text": [
            "epoch=4.375, eval_loss=1.669794239103794\n"
          ]
        },
        {
          "output_type": "stream",
          "name": "stderr",
          "text": [
            "epoch=4.5, loss=1.6988720893859863:  56%|█████▋    | 2304/4096 [1:02:38<1:02:09,  2.08s/it]        "
          ]
        },
        {
          "output_type": "stream",
          "name": "stdout",
          "text": [
            "epoch=4.5, eval_loss=1.6646959595382214\n"
          ]
        },
        {
          "output_type": "stream",
          "name": "stderr",
          "text": [
            "epoch=4.625, loss=1.7826695442199707:  58%|█████▊    | 2368/4096 [1:05:02<1:05:22,  2.27s/it]      "
          ]
        },
        {
          "output_type": "stream",
          "name": "stdout",
          "text": [
            "epoch=4.625, eval_loss=1.6607899479568005\n"
          ]
        },
        {
          "output_type": "stream",
          "name": "stderr",
          "text": [
            "epoch=4.75, loss=1.641716718673706:  59%|█████▉    | 2432/4096 [1:07:31<59:10,  2.13s/it]       "
          ]
        },
        {
          "output_type": "stream",
          "name": "stdout",
          "text": [
            "epoch=4.75, eval_loss=1.653659000992775\n"
          ]
        },
        {
          "output_type": "stream",
          "name": "stderr",
          "text": [
            "epoch=4.875, loss=1.6095136404037476:  61%|██████    | 2496/4096 [1:10:17<1:11:05,  2.67s/it]      "
          ]
        },
        {
          "output_type": "stream",
          "name": "stdout",
          "text": [
            "epoch=4.875, eval_loss=1.6520917378365993\n"
          ]
        },
        {
          "output_type": "stream",
          "name": "stderr",
          "text": [
            "epoch=5.0, loss=1.653110384941101:  62%|██████▎   | 2560/4096 [1:13:14<1:07:01,  2.62s/it]        "
          ]
        },
        {
          "output_type": "stream",
          "name": "stdout",
          "text": [
            "epoch=5.0, eval_loss=1.6434431672096252\n"
          ]
        },
        {
          "output_type": "stream",
          "name": "stderr",
          "text": [
            "epoch=5.125, loss=1.6592401266098022:  64%|██████▍   | 2624/4096 [1:16:17<1:04:28,  2.63s/it]     "
          ]
        },
        {
          "output_type": "stream",
          "name": "stdout",
          "text": [
            "epoch=5.125, eval_loss=1.635269470512867\n"
          ]
        },
        {
          "output_type": "stream",
          "name": "stderr",
          "text": [
            "epoch=5.25, loss=1.7552406787872314:  66%|██████▌   | 2688/4096 [1:19:35<1:16:10,  3.25s/it]       "
          ]
        },
        {
          "output_type": "stream",
          "name": "stdout",
          "text": [
            "epoch=5.25, eval_loss=1.629064790904522\n"
          ]
        },
        {
          "output_type": "stream",
          "name": "stderr",
          "text": [
            "epoch=5.375, loss=1.680991291999817:  67%|██████▋   | 2752/4096 [1:23:13<1:10:35,  3.15s/it]       "
          ]
        },
        {
          "output_type": "stream",
          "name": "stdout",
          "text": [
            "epoch=5.375, eval_loss=1.6318112052977085\n"
          ]
        },
        {
          "output_type": "stream",
          "name": "stderr",
          "text": [
            "epoch=5.5, loss=1.6188263893127441:  69%|██████▉   | 2816/4096 [1:26:46<1:05:37,  3.08s/it]       "
          ]
        },
        {
          "output_type": "stream",
          "name": "stdout",
          "text": [
            "epoch=5.5, eval_loss=1.6312796473503113\n"
          ]
        },
        {
          "output_type": "stream",
          "name": "stderr",
          "text": [
            "epoch=5.625, loss=1.6872055530548096:  70%|███████   | 2880/4096 [1:30:05<57:33,  2.84s/it]     "
          ]
        },
        {
          "output_type": "stream",
          "name": "stdout",
          "text": [
            "epoch=5.625, eval_loss=1.6173611730337143\n"
          ]
        },
        {
          "output_type": "stream",
          "name": "stderr",
          "text": [
            "epoch=5.75, loss=1.6595110893249512:  72%|███████▏  | 2944/4096 [1:33:28<1:00:13,  3.14s/it]       "
          ]
        },
        {
          "output_type": "stream",
          "name": "stdout",
          "text": [
            "epoch=5.75, eval_loss=1.6161087453365326\n"
          ]
        },
        {
          "output_type": "stream",
          "name": "stderr",
          "text": [
            "epoch=5.875, loss=1.6122593879699707:  73%|███████▎  | 3008/4096 [1:36:53<58:07,  3.21s/it]      "
          ]
        },
        {
          "output_type": "stream",
          "name": "stdout",
          "text": [
            "epoch=5.875, eval_loss=1.6107905060052872\n"
          ]
        },
        {
          "output_type": "stream",
          "name": "stderr",
          "text": [
            "epoch=6.0, loss=1.6305370330810547:  75%|███████▌  | 3072/4096 [1:40:15<51:18,  3.01s/it]        "
          ]
        },
        {
          "output_type": "stream",
          "name": "stdout",
          "text": [
            "epoch=6.0, eval_loss=1.61263282969594\n"
          ]
        },
        {
          "output_type": "stream",
          "name": "stderr",
          "text": [
            "epoch=6.125, loss=1.7725775241851807:  77%|███████▋  | 3136/4096 [1:43:42<48:30,  3.03s/it]      "
          ]
        },
        {
          "output_type": "stream",
          "name": "stdout",
          "text": [
            "epoch=6.125, eval_loss=1.6056590229272842\n"
          ]
        },
        {
          "output_type": "stream",
          "name": "stderr",
          "text": [
            "epoch=6.25, loss=1.6384104490280151:  78%|███████▊  | 3200/4096 [1:47:09<46:29,  3.11s/it]       "
          ]
        },
        {
          "output_type": "stream",
          "name": "stdout",
          "text": [
            "epoch=6.25, eval_loss=1.59992066770792\n"
          ]
        },
        {
          "output_type": "stream",
          "name": "stderr",
          "text": [
            "epoch=6.375, loss=1.74652099609375:  80%|███████▉  | 3264/4096 [1:50:32<41:26,  2.99s/it]        "
          ]
        },
        {
          "output_type": "stream",
          "name": "stdout",
          "text": [
            "epoch=6.375, eval_loss=1.5974504090845585\n"
          ]
        },
        {
          "output_type": "stream",
          "name": "stderr",
          "text": [
            "epoch=6.5, loss=1.7439297437667847:  81%|████████▏ | 3328/4096 [1:53:55<39:30,  3.09s/it]        "
          ]
        },
        {
          "output_type": "stream",
          "name": "stdout",
          "text": [
            "epoch=6.5, eval_loss=1.5956709943711758\n"
          ]
        },
        {
          "output_type": "stream",
          "name": "stderr",
          "text": [
            "epoch=6.625, loss=1.6059108972549438:  83%|████████▎ | 3392/4096 [1:57:20<35:32,  3.03s/it]      "
          ]
        },
        {
          "output_type": "stream",
          "name": "stdout",
          "text": [
            "epoch=6.625, eval_loss=1.598726823925972\n"
          ]
        },
        {
          "output_type": "stream",
          "name": "stderr",
          "text": [
            "epoch=6.75, loss=1.589768409729004:  84%|████████▍ | 3456/4096 [2:00:50<34:16,  3.21s/it]        "
          ]
        },
        {
          "output_type": "stream",
          "name": "stdout",
          "text": [
            "epoch=6.75, eval_loss=1.5944336019456387\n"
          ]
        },
        {
          "output_type": "stream",
          "name": "stderr",
          "text": [
            "epoch=6.875, loss=1.6486366987228394:  86%|████████▌ | 3520/4096 [2:04:20<30:52,  3.22s/it]      "
          ]
        },
        {
          "output_type": "stream",
          "name": "stdout",
          "text": [
            "epoch=6.875, eval_loss=1.587022740393877\n"
          ]
        },
        {
          "output_type": "stream",
          "name": "stderr",
          "text": [
            "epoch=7.0, loss=1.6999303102493286:  88%|████████▊ | 3584/4096 [2:07:50<26:11,  3.07s/it]        "
          ]
        },
        {
          "output_type": "stream",
          "name": "stdout",
          "text": [
            "epoch=7.0, eval_loss=1.586800217628479\n"
          ]
        },
        {
          "output_type": "stream",
          "name": "stderr",
          "text": [
            "epoch=7.125, loss=1.7233195304870605:  89%|████████▉ | 3648/4096 [2:11:21<23:05,  3.09s/it]      "
          ]
        },
        {
          "output_type": "stream",
          "name": "stdout",
          "text": [
            "epoch=7.125, eval_loss=1.5809283293783665\n"
          ]
        },
        {
          "output_type": "stream",
          "name": "stderr",
          "text": [
            "epoch=7.25, loss=1.631574273109436:  91%|█████████ | 3712/4096 [2:14:50<19:31,  3.05s/it]        "
          ]
        },
        {
          "output_type": "stream",
          "name": "stdout",
          "text": [
            "epoch=7.25, eval_loss=1.5813886411488056\n"
          ]
        },
        {
          "output_type": "stream",
          "name": "stderr",
          "text": [
            "epoch=7.375, loss=1.7011959552764893:  92%|█████████▏| 3776/4096 [2:18:22<17:39,  3.31s/it]      "
          ]
        },
        {
          "output_type": "stream",
          "name": "stdout",
          "text": [
            "epoch=7.375, eval_loss=1.5741405673325062\n"
          ]
        },
        {
          "output_type": "stream",
          "name": "stderr",
          "text": [
            "epoch=7.5, loss=1.602041482925415:  94%|█████████▍| 3840/4096 [2:21:58<13:21,  3.13s/it]         "
          ]
        },
        {
          "output_type": "stream",
          "name": "stdout",
          "text": [
            "epoch=7.5, eval_loss=1.5746904090046883\n"
          ]
        },
        {
          "output_type": "stream",
          "name": "stderr",
          "text": [
            "epoch=7.625, loss=1.4605329036712646:  95%|█████████▌| 3904/4096 [2:25:31<10:00,  3.13s/it]      "
          ]
        },
        {
          "output_type": "stream",
          "name": "stdout",
          "text": [
            "epoch=7.625, eval_loss=1.5764260776340961\n"
          ]
        },
        {
          "output_type": "stream",
          "name": "stderr",
          "text": [
            "epoch=7.75, loss=1.7117607593536377:  97%|█████████▋| 3968/4096 [2:28:58<06:49,  3.20s/it]       "
          ]
        },
        {
          "output_type": "stream",
          "name": "stdout",
          "text": [
            "epoch=7.75, eval_loss=1.5734640210866928\n"
          ]
        },
        {
          "output_type": "stream",
          "name": "stderr",
          "text": [
            "epoch=7.875, loss=1.490594744682312:  98%|█████████▊| 4032/4096 [2:32:26<03:26,  3.23s/it]       "
          ]
        },
        {
          "output_type": "stream",
          "name": "stdout",
          "text": [
            "epoch=7.875, eval_loss=1.5688545182347298\n"
          ]
        },
        {
          "output_type": "stream",
          "name": "stderr",
          "text": [
            "epoch=8.0, loss=1.5836886167526245: 100%|██████████| 4096/4096 [2:35:51<00:00,  2.28s/it]"
          ]
        },
        {
          "output_type": "stream",
          "name": "stdout",
          "text": [
            "epoch=8.0, eval_loss=1.568395771086216\n"
          ]
        },
        {
          "output_type": "stream",
          "name": "stderr",
          "text": [
            "\n"
          ]
        }
      ],
      "source": [
        "trainer.train()"
      ]
    },
    {
      "cell_type": "markdown",
      "id": "0b4b73df",
      "metadata": {
        "id": "0b4b73df"
      },
      "source": [
        "# Оцениваем качество и проверяем жадную и случайную генерацию"
      ]
    },
    {
      "cell_type": "code",
      "execution_count": 10,
      "id": "88155ce6",
      "metadata": {
        "colab": {
          "base_uri": "https://localhost:8080/"
        },
        "id": "88155ce6",
        "outputId": "8e58cb57-e3de-4549-ca91-f8c8f175eb33"
      },
      "outputs": [
        {
          "output_type": "execute_result",
          "data": {
            "text/plain": [
              "1.568395771086216"
            ]
          },
          "metadata": {},
          "execution_count": 10
        }
      ],
      "source": [
        "trainer.evaluate()"
      ]
    },
    {
      "cell_type": "code",
      "execution_count": 11,
      "id": "e9299f79",
      "metadata": {
        "colab": {
          "base_uri": "https://localhost:8080/",
          "height": 122
        },
        "id": "e9299f79",
        "outputId": "a5618880-46b8-441d-a09a-3ecb76c0d5d7"
      },
      "outputs": [
        {
          "output_type": "execute_result",
          "data": {
            "text/plain": [
              "'В этот день для Весов день для Весов день для Весов день для Весов день для Весов день для Весов день для Весов день для Весов день для Весов день для Весам ваших дела и ваших дела и ваших дела и ваших и ваших и ваших и ваших и ваших и ваших и ваших и ваших и ваших и ваших и ваших и ваших и ваших и ваших и ваших и ваших и ваших и ваших и ваших и ваших и ваших и ваших и ваших и ваших и ваших и ваших и ваших и ваших и ваших и ваших и ваших в делать ваших в делать ваших в делать ваших в делать ваших в делать ваших в делать ваших в делать ваших в делать в делать в делать в делать в делать в делать в делать в делать в делать в делать в делать в делать в делать в делать в делать в делать в делать в делать в делать в делать в делать в делать в делать в делать в делать в делать в делать в делать в делать в делать в делать в делать в делать в делать в де�'"
            ],
            "application/vnd.google.colaboratory.intrinsic+json": {
              "type": "string"
            }
          },
          "metadata": {},
          "execution_count": 11
        }
      ],
      "source": [
        "generate(model, tokenizer, temperature=0)"
      ]
    },
    {
      "cell_type": "code",
      "execution_count": 12,
      "id": "441e4368",
      "metadata": {
        "colab": {
          "base_uri": "https://localhost:8080/",
          "height": 122
        },
        "id": "441e4368",
        "outputId": "88af175f-fd5f-4862-b643-470dcf2d97d6"
      },
      "outputs": [
        {
          "output_type": "execute_result",
          "data": {
            "text/plain": [
              "'В этот день половине дня день жизнь дельность своих участия других в любовных в карьерности, что не общениями, вперементеми в настроение и не стоит поддержать домашний и удачный день для приболевных или сколагает привычной придется на профессиональные дела будете развития, как и режиме к привлекая этот день проявиться не пора забота, в этот день гармоничной и возможно, сильных в присладают любой может общения ваших и детей, и потратить благоприими в деятельное любой свое ваших в суток привязания и пора половина, в больше и оказаться в положения и вас присстановка. Веровится на например, которую в которью, комфорт общения привязанного будете общения и ваших в этот день придется избегают избегать начало жизни. В прогрессивные многие вопросами, не получной общения и активность половина дня ваших например, как из начала выборах. Ваши могут не спешить сво�'"
            ],
            "application/vnd.google.colaboratory.intrinsic+json": {
              "type": "string"
            }
          },
          "metadata": {},
          "execution_count": 12
        }
      ],
      "source": [
        "generate(model, tokenizer, temperature=0.5, top_k=20)"
      ]
    }
  ],
  "metadata": {
    "kernelspec": {
      "display_name": "Python 3 (ipykernel)",
      "language": "python",
      "name": "python3"
    },
    "language_info": {
      "codemirror_mode": {
        "name": "ipython",
        "version": 3
      },
      "file_extension": ".py",
      "mimetype": "text/x-python",
      "name": "python",
      "nbconvert_exporter": "python",
      "pygments_lexer": "ipython3",
      "version": "3.11.3"
    },
    "colab": {
      "provenance": []
    }
  },
  "nbformat": 4,
  "nbformat_minor": 5
}